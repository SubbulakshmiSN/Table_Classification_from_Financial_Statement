{
 "cells": [
  {
   "cell_type": "markdown",
   "id": "7edec4b4",
   "metadata": {},
   "source": [
    "# Financial Statement Classification"
   ]
  },
  {
   "cell_type": "markdown",
   "id": "575877b2",
   "metadata": {},
   "source": [
    "## Introduction\n",
    "\n",
    "This project aims to classify tables extracted from financial statements into categories: Income Statements, Balance Sheets, Cash Flows, Notes, and Others. The classification was achieved using various machine learning models, with a focus on model performance and accuracy."
   ]
  },
  {
   "cell_type": "markdown",
   "id": "88d12001",
   "metadata": {},
   "source": [
    "## Imports"
   ]
  },
  {
   "cell_type": "code",
   "execution_count": 381,
   "id": "f58a200f",
   "metadata": {},
   "outputs": [],
   "source": [
    "# Import libraries\n",
    "# file processing\n",
    "import os\n",
    "from bs4 import BeautifulSoup\n",
    "\n",
    "# data processing\n",
    "import pandas as pd\n",
    "import numpy as np\n",
    "import re\n",
    "import nltk\n",
    "from nltk.corpus import stopwords\n",
    "from nltk.stem.porter import PorterStemmer\n",
    "from sklearn.preprocessing import LabelEncoder\n",
    "from sklearn.feature_extraction.text import CountVectorizer\n",
    "\n",
    "# machine learning\n",
    "from sklearn.model_selection import train_test_split\n",
    "from sklearn.metrics import accuracy_score, classification_report ,confusion_matrix, f1_score, precision_score, recall_score\n",
    "from sklearn.svm import SVC\n",
    "from sklearn.naive_bayes import MultinomialNB\n",
    "from sklearn.ensemble import RandomForestClassifier\n",
    "from sklearn.linear_model import LogisticRegression\n",
    "from xgboost import XGBClassifier\n",
    "from sklearn.neural_network import MLPClassifier\n",
    "from sklearn.tree import DecisionTreeClassifier\n",
    "from sklearn.neighbors import KNeighborsClassifier\n",
    "from imblearn.over_sampling import SMOTE\n",
    "\n",
    "# visualization\n",
    "import matplotlib.pyplot as plt\n",
    "import seaborn as sns\n",
    "\n",
    "# ignore warnings\n",
    "import warnings\n",
    "warnings.filterwarnings('ignore')\n"
   ]
  },
  {
   "cell_type": "markdown",
   "id": "090d4576",
   "metadata": {},
   "source": [
    "## Data Extraction and preprocessing\n",
    "\n",
    "### Data Extraction\n",
    "\n",
    "Text was extracted from HTML files using BeautifulSoup. This library is effective for parsing HTML and XML documents and extracting data from them."
   ]
  },
  {
   "cell_type": "code",
   "execution_count": 382,
   "id": "2712ee91",
   "metadata": {},
   "outputs": [],
   "source": [
    "def extract_text_from_html(file_path):\n",
    "    with open(file_path, 'r', encoding='utf-8') as file:\n",
    "        content = file.read()\n",
    "    soup = BeautifulSoup(content, 'html.parser')\n",
    "    text = soup.get_text(separator=' ', strip=True)\n",
    "    return text\n",
    "\n",
    "def process_specific_directories_to_dataframe(base_dir, folders):\n",
    "    data = []\n",
    "    \n",
    "    # Iterate through each specified folder\n",
    "    for folder in folders:\n",
    "        folder_path = os.path.join(base_dir, folder)\n",
    "        if os.path.isdir(folder_path):\n",
    "            # Iterate through each HTML file in the folder\n",
    "            for file_name in os.listdir(folder_path):\n",
    "                if file_name.endswith('.html'):\n",
    "                    file_path = os.path.join(folder_path, file_name)\n",
    "                    extracted_text = extract_text_from_html(file_path)\n",
    "                    data.append({'text': extracted_text, 'category': folder})\n",
    "    \n",
    "    # Create a DataFrame\n",
    "    df = pd.DataFrame(data)\n",
    "    return df"
   ]
  },
  {
   "cell_type": "code",
   "execution_count": 383,
   "id": "ea588487",
   "metadata": {},
   "outputs": [
    {
     "data": {
      "text/html": [
       "<div>\n",
       "<style scoped>\n",
       "    .dataframe tbody tr th:only-of-type {\n",
       "        vertical-align: middle;\n",
       "    }\n",
       "\n",
       "    .dataframe tbody tr th {\n",
       "        vertical-align: top;\n",
       "    }\n",
       "\n",
       "    .dataframe thead th {\n",
       "        text-align: right;\n",
       "    }\n",
       "</style>\n",
       "<table border=\"1\" class=\"dataframe\">\n",
       "  <thead>\n",
       "    <tr style=\"text-align: right;\">\n",
       "      <th></th>\n",
       "      <th>text</th>\n",
       "      <th>category</th>\n",
       "    </tr>\n",
       "  </thead>\n",
       "  <tbody>\n",
       "    <tr>\n",
       "      <th>0</th>\n",
       "      <td>(7 in lacs) (7 in lacs) _1_ Standalone Consoli...</td>\n",
       "      <td>Balance Sheets</td>\n",
       "    </tr>\n",
       "    <tr>\n",
       "      <th>1</th>\n",
       "      <td>Consolidated Standalone Particulars As at As a...</td>\n",
       "      <td>Balance Sheets</td>\n",
       "    </tr>\n",
       "    <tr>\n",
       "      <th>2</th>\n",
       "      <td>Standalone Consolidated Audited Audited Partic...</td>\n",
       "      <td>Balance Sheets</td>\n",
       "    </tr>\n",
       "    <tr>\n",
       "      <th>3</th>\n",
       "      <td>GUJARAT NARMADA VALLEY FERTILIZERS &amp; CHEMICALS...</td>\n",
       "      <td>Balance Sheets</td>\n",
       "    </tr>\n",
       "    <tr>\n",
       "      <th>4</th>\n",
       "      <td>Standalone Consolidated As at As at As at As a...</td>\n",
       "      <td>Balance Sheets</td>\n",
       "    </tr>\n",
       "  </tbody>\n",
       "</table>\n",
       "</div>"
      ],
      "text/plain": [
       "                                                text        category\n",
       "0  (7 in lacs) (7 in lacs) _1_ Standalone Consoli...  Balance Sheets\n",
       "1  Consolidated Standalone Particulars As at As a...  Balance Sheets\n",
       "2  Standalone Consolidated Audited Audited Partic...  Balance Sheets\n",
       "3  GUJARAT NARMADA VALLEY FERTILIZERS & CHEMICALS...  Balance Sheets\n",
       "4  Standalone Consolidated As at As at As at As a...  Balance Sheets"
      ]
     },
     "execution_count": 383,
     "metadata": {},
     "output_type": "execute_result"
    }
   ],
   "source": [
    "base_dir = 'C:/Users/Admin/Downloads/data_finclav/data'\n",
    "folders = ['Balance Sheets', 'Cash Flow', 'Income Statement', 'Notes', 'Others']\n",
    "df = process_specific_directories_to_dataframe(base_dir, folders)\n",
    "\n",
    "# Display the DataFrame\n",
    "df.head()"
   ]
  },
  {
   "cell_type": "code",
   "execution_count": 384,
   "id": "ac409770",
   "metadata": {},
   "outputs": [],
   "source": [
    "df.to_csv('data_extract.csv')"
   ]
  },
  {
   "cell_type": "code",
   "execution_count": 385,
   "id": "5f1beeb7",
   "metadata": {},
   "outputs": [
    {
     "data": {
      "text/plain": [
       "(2525, 2)"
      ]
     },
     "execution_count": 385,
     "metadata": {},
     "output_type": "execute_result"
    }
   ],
   "source": [
    "df.shape"
   ]
  },
  {
   "cell_type": "code",
   "execution_count": 386,
   "id": "05bcaadc",
   "metadata": {},
   "outputs": [
    {
     "name": "stdout",
     "output_type": "stream",
     "text": [
      "<class 'pandas.core.frame.DataFrame'>\n",
      "RangeIndex: 2525 entries, 0 to 2524\n",
      "Data columns (total 2 columns):\n",
      " #   Column    Non-Null Count  Dtype \n",
      "---  ------    --------------  ----- \n",
      " 0   text      2525 non-null   object\n",
      " 1   category  2525 non-null   object\n",
      "dtypes: object(2)\n",
      "memory usage: 39.6+ KB\n"
     ]
    }
   ],
   "source": [
    "df.info()"
   ]
  },
  {
   "cell_type": "markdown",
   "id": "853f469b",
   "metadata": {},
   "source": [
    "###  Preprocessing\n",
    "\n",
    "Preprocessing steps included removing unwanted characters, digits, punctuation, extra spaces, converting text to lowercase, and stemming. These steps ensure that the text data is clean and standardized, making it suitable for machine learning models.\n"
   ]
  },
  {
   "cell_type": "code",
   "execution_count": 387,
   "id": "3d0cc19d",
   "metadata": {},
   "outputs": [
    {
     "data": {
      "text/plain": [
       "text        0\n",
       "category    0\n",
       "dtype: int64"
      ]
     },
     "execution_count": 387,
     "metadata": {},
     "output_type": "execute_result"
    }
   ],
   "source": [
    "df.isnull().sum()"
   ]
  },
  {
   "cell_type": "code",
   "execution_count": 388,
   "id": "8b75ce40",
   "metadata": {},
   "outputs": [
    {
     "data": {
      "text/plain": [
       "21"
      ]
     },
     "execution_count": 388,
     "metadata": {},
     "output_type": "execute_result"
    }
   ],
   "source": [
    "df.duplicated().sum()"
   ]
  },
  {
   "cell_type": "code",
   "execution_count": 389,
   "id": "20510ac1",
   "metadata": {},
   "outputs": [],
   "source": [
    "df = df.drop_duplicates(keep='first')"
   ]
  },
  {
   "cell_type": "code",
   "execution_count": 390,
   "id": "81925417",
   "metadata": {},
   "outputs": [
    {
     "data": {
      "text/plain": [
       "(2504, 2)"
      ]
     },
     "execution_count": 390,
     "metadata": {},
     "output_type": "execute_result"
    }
   ],
   "source": [
    "df.shape"
   ]
  },
  {
   "cell_type": "code",
   "execution_count": 391,
   "id": "0ec61320",
   "metadata": {},
   "outputs": [
    {
     "data": {
      "text/plain": [
       "'(7 in lacs) (7 in lacs) _1_ Standalone Consolidated Sr. No. Particulars As at 31st March 2018 As at 31st March 2017 As at 31st March 2018 As at 31st March 2017 A Assets 1) Non-Current Assets (a) Property, Plant and Equipment 10,723.96 9,281.23 10,723.96 9,281.23 (b) Capital work in progress 607.46 - 607.46 - (c) Intangible assets 17.44 18.71 17.44 18.71 (d) Financial assets (i) Non-current investments 150.00 150.00 63.42 24.69 (ii) Loans - - - - (iii) Other financial assets 197.66 130.62 197.66 130.62 (e) Other non-current assets - - - - Total Non-Current Assets (A) 11,696.52 9,580.56 11,609.94 9,455.25 2) Current Assets (a) Inventories 8,002.02 13,925.10 8,002.02 13,925.10 (b) Financial assets (i) Trade Receivables 18,541.75 13,671.01 18,541.75 13,671.01 (ii) Cash and cash equivalents 2,883.82 177.11 2,883.82 177.11 (iii) Bank balances other than (ii) above 357.08 1,538.45 357.08 1,538.45 (ivj Loans 3.12 1.79 3.12 1.79 (v) Other Financial assets 220.19 1,035.36 220.19 1,035.36 (c) Other current assets 684.59 2,169.81 684.59 2,169.81 Total Current Assets (B) 30,692.57 32,518.63 30,692.57 32,518.63 - Total Assets (A)+ (B) 42,389.09 42,099.19 42,302.51 41,973.88 B Equity & Liabilities 1) Equity ______ (a) Equity share capital 1,659.06 1,659.06 1,659.06 1,659.06 (b) Other Equity 24,154.09 14,611.93 24,067.51 14,486.61 Total Equity (A) 25,813.15 16,270.99 25,726.57 16,145.67 2) Liabilities Non-Current Liabilities (a) Financial Liabilities (i) Long term borrowings - - - - (ii) Other Non Current Financial Liability 0.30 0.30 0.30 0.30 (bj Long term provisions 449.43 401.26 449.43 401.26 (c) Deferred tax liabilities (Net) 1,061.51 399.63 1,061.51 399.63 Total Non-Current Liabilities (B) 1,511.24 801.19 1,511.24 801.19 Current Liabilities (a) Financial Liabilities (i) Short term borrowings - 13,710.19 - 13,710.19 (ii) Trade payables 12,574.73 9,872.63 12,574.73 9,872.63 (iii) Other Current Financial liabilities 295.21 453.44 295.21 453.44 (b) Other current liabilities 793.04 161.10 793.04 161/19 (c)Short term provisions 40/07 38.26 40.07 38.26 (d) Current tax liabilities (Net) 1,361/65 791.32 1,361.65 791.32 Total Current Liabilities (C) 15,064.70 25,027.03 15,064.70 25,027.03 Total Equity and Liabilities (A)+ (B) +( C) 42,389.09 42,099.19 42,302.51 41,973.88'"
      ]
     },
     "execution_count": 391,
     "metadata": {},
     "output_type": "execute_result"
    }
   ],
   "source": [
    "df[\"text\"][0]"
   ]
  },
  {
   "cell_type": "markdown",
   "id": "ee4ae5d9",
   "metadata": {},
   "source": [
    "### Removing unwanted characters, Digits,Punctuations and extra spaces\n",
    "\n",
    "- Unwanted characters, digits, and punctuation are removed to retain only the text data.\n",
    "- Extra spaces are removed, and leading/trailing spaces are trimmed to ensure consistency."
   ]
  },
  {
   "cell_type": "code",
   "execution_count": 392,
   "id": "e1016239",
   "metadata": {},
   "outputs": [
    {
     "data": {
      "text/html": [
       "<div>\n",
       "<style scoped>\n",
       "    .dataframe tbody tr th:only-of-type {\n",
       "        vertical-align: middle;\n",
       "    }\n",
       "\n",
       "    .dataframe tbody tr th {\n",
       "        vertical-align: top;\n",
       "    }\n",
       "\n",
       "    .dataframe thead th {\n",
       "        text-align: right;\n",
       "    }\n",
       "</style>\n",
       "<table border=\"1\" class=\"dataframe\">\n",
       "  <thead>\n",
       "    <tr style=\"text-align: right;\">\n",
       "      <th></th>\n",
       "      <th>text</th>\n",
       "      <th>category</th>\n",
       "      <th>clean_text</th>\n",
       "    </tr>\n",
       "  </thead>\n",
       "  <tbody>\n",
       "    <tr>\n",
       "      <th>0</th>\n",
       "      <td>(7 in lacs) (7 in lacs) _1_ Standalone Consoli...</td>\n",
       "      <td>Balance Sheets</td>\n",
       "      <td>in lacs in lacs Standalone Consolidated Sr No ...</td>\n",
       "    </tr>\n",
       "    <tr>\n",
       "      <th>1</th>\n",
       "      <td>Consolidated Standalone Particulars As at As a...</td>\n",
       "      <td>Balance Sheets</td>\n",
       "      <td>Consolidated Standalone Particulars As at As a...</td>\n",
       "    </tr>\n",
       "    <tr>\n",
       "      <th>2</th>\n",
       "      <td>Standalone Consolidated Audited Audited Partic...</td>\n",
       "      <td>Balance Sheets</td>\n",
       "      <td>Standalone Consolidated Audited Audited Partic...</td>\n",
       "    </tr>\n",
       "    <tr>\n",
       "      <th>3</th>\n",
       "      <td>GUJARAT NARMADA VALLEY FERTILIZERS &amp; CHEMICALS...</td>\n",
       "      <td>Balance Sheets</td>\n",
       "      <td>GUJARAT NARMADA VALLEY FERTILIZERS CHEMICALS L...</td>\n",
       "    </tr>\n",
       "    <tr>\n",
       "      <th>4</th>\n",
       "      <td>Standalone Consolidated As at As at As at As a...</td>\n",
       "      <td>Balance Sheets</td>\n",
       "      <td>Standalone Consolidated As at As at As at As a...</td>\n",
       "    </tr>\n",
       "    <tr>\n",
       "      <th>...</th>\n",
       "      <td>...</td>\n",
       "      <td>...</td>\n",
       "      <td>...</td>\n",
       "    </tr>\n",
       "    <tr>\n",
       "      <th>2520</th>\n",
       "      <td>1. Singhi &amp; Co., 2. Chatterjee &amp; Co., 3. V.K. ...</td>\n",
       "      <td>Others</td>\n",
       "      <td>Singhi Co Chatterjee Co V K Dhingra Co A K Sab...</td>\n",
       "    </tr>\n",
       "    <tr>\n",
       "      <th>2521</th>\n",
       "      <td>Singhi &amp; Co. Chatterjee &amp;Co. V.K. Dhingra &amp; Co...</td>\n",
       "      <td>Others</td>\n",
       "      <td>Singhi Co Chatterjee Co V K Dhingra Co A K Sab...</td>\n",
       "    </tr>\n",
       "    <tr>\n",
       "      <th>2522</th>\n",
       "      <td>r* • • *“•\" 1 1 i • • 1 1 1 STEEL AUTHORITY OF...</td>\n",
       "      <td>Others</td>\n",
       "      <td>r i STEEL AUTHORITY OF INDIA LIMITED CIN L DL ...</td>\n",
       "    </tr>\n",
       "    <tr>\n",
       "      <th>2523</th>\n",
       "      <td>Particulars Quarter ended Year ended March 31,...</td>\n",
       "      <td>Others</td>\n",
       "      <td>Particulars Quarter ended Year ended March Aud...</td>\n",
       "    </tr>\n",
       "    <tr>\n",
       "      <th>2524</th>\n",
       "      <td>Particulars Quarter Ended Year Ended March 31,...</td>\n",
       "      <td>Others</td>\n",
       "      <td>Particulars Quarter Ended Year Ended March Mar...</td>\n",
       "    </tr>\n",
       "  </tbody>\n",
       "</table>\n",
       "<p>2504 rows × 3 columns</p>\n",
       "</div>"
      ],
      "text/plain": [
       "                                                   text        category  \\\n",
       "0     (7 in lacs) (7 in lacs) _1_ Standalone Consoli...  Balance Sheets   \n",
       "1     Consolidated Standalone Particulars As at As a...  Balance Sheets   \n",
       "2     Standalone Consolidated Audited Audited Partic...  Balance Sheets   \n",
       "3     GUJARAT NARMADA VALLEY FERTILIZERS & CHEMICALS...  Balance Sheets   \n",
       "4     Standalone Consolidated As at As at As at As a...  Balance Sheets   \n",
       "...                                                 ...             ...   \n",
       "2520  1. Singhi & Co., 2. Chatterjee & Co., 3. V.K. ...          Others   \n",
       "2521  Singhi & Co. Chatterjee &Co. V.K. Dhingra & Co...          Others   \n",
       "2522  r* • • *“•\" 1 1 i • • 1 1 1 STEEL AUTHORITY OF...          Others   \n",
       "2523  Particulars Quarter ended Year ended March 31,...          Others   \n",
       "2524  Particulars Quarter Ended Year Ended March 31,...          Others   \n",
       "\n",
       "                                             clean_text  \n",
       "0     in lacs in lacs Standalone Consolidated Sr No ...  \n",
       "1     Consolidated Standalone Particulars As at As a...  \n",
       "2     Standalone Consolidated Audited Audited Partic...  \n",
       "3     GUJARAT NARMADA VALLEY FERTILIZERS CHEMICALS L...  \n",
       "4     Standalone Consolidated As at As at As at As a...  \n",
       "...                                                 ...  \n",
       "2520  Singhi Co Chatterjee Co V K Dhingra Co A K Sab...  \n",
       "2521  Singhi Co Chatterjee Co V K Dhingra Co A K Sab...  \n",
       "2522  r i STEEL AUTHORITY OF INDIA LIMITED CIN L DL ...  \n",
       "2523  Particulars Quarter ended Year ended March Aud...  \n",
       "2524  Particulars Quarter Ended Year Ended March Mar...  \n",
       "\n",
       "[2504 rows x 3 columns]"
      ]
     },
     "execution_count": 392,
     "metadata": {},
     "output_type": "execute_result"
    }
   ],
   "source": [
    "df['clean_text'] = df['text'].apply(lambda x: re.sub(r'[^a-zA-Z\\s]', ' ', x))\n",
    "df['clean_text'] = df['clean_text'].apply(lambda x: re.sub(r'\\s+', ' ', x).strip())\n",
    "df"
   ]
  },
  {
   "cell_type": "markdown",
   "id": "6513410d",
   "metadata": {},
   "source": [
    "### Converting Text to Lowercase\n",
    "\n",
    "Text is converted to lowercase to maintain uniformity."
   ]
  },
  {
   "cell_type": "code",
   "execution_count": 393,
   "id": "c2bfbb3e",
   "metadata": {},
   "outputs": [
    {
     "data": {
      "text/html": [
       "<div>\n",
       "<style scoped>\n",
       "    .dataframe tbody tr th:only-of-type {\n",
       "        vertical-align: middle;\n",
       "    }\n",
       "\n",
       "    .dataframe tbody tr th {\n",
       "        vertical-align: top;\n",
       "    }\n",
       "\n",
       "    .dataframe thead th {\n",
       "        text-align: right;\n",
       "    }\n",
       "</style>\n",
       "<table border=\"1\" class=\"dataframe\">\n",
       "  <thead>\n",
       "    <tr style=\"text-align: right;\">\n",
       "      <th></th>\n",
       "      <th>text</th>\n",
       "      <th>category</th>\n",
       "      <th>clean_text</th>\n",
       "    </tr>\n",
       "  </thead>\n",
       "  <tbody>\n",
       "    <tr>\n",
       "      <th>0</th>\n",
       "      <td>(7 in lacs) (7 in lacs) _1_ Standalone Consoli...</td>\n",
       "      <td>Balance Sheets</td>\n",
       "      <td>in lacs in lacs standalone consolidated sr no ...</td>\n",
       "    </tr>\n",
       "    <tr>\n",
       "      <th>1</th>\n",
       "      <td>Consolidated Standalone Particulars As at As a...</td>\n",
       "      <td>Balance Sheets</td>\n",
       "      <td>consolidated standalone particulars as at as a...</td>\n",
       "    </tr>\n",
       "    <tr>\n",
       "      <th>2</th>\n",
       "      <td>Standalone Consolidated Audited Audited Partic...</td>\n",
       "      <td>Balance Sheets</td>\n",
       "      <td>standalone consolidated audited audited partic...</td>\n",
       "    </tr>\n",
       "    <tr>\n",
       "      <th>3</th>\n",
       "      <td>GUJARAT NARMADA VALLEY FERTILIZERS &amp; CHEMICALS...</td>\n",
       "      <td>Balance Sheets</td>\n",
       "      <td>gujarat narmada valley fertilizers chemicals l...</td>\n",
       "    </tr>\n",
       "    <tr>\n",
       "      <th>4</th>\n",
       "      <td>Standalone Consolidated As at As at As at As a...</td>\n",
       "      <td>Balance Sheets</td>\n",
       "      <td>standalone consolidated as at as at as at as a...</td>\n",
       "    </tr>\n",
       "    <tr>\n",
       "      <th>...</th>\n",
       "      <td>...</td>\n",
       "      <td>...</td>\n",
       "      <td>...</td>\n",
       "    </tr>\n",
       "    <tr>\n",
       "      <th>2520</th>\n",
       "      <td>1. Singhi &amp; Co., 2. Chatterjee &amp; Co., 3. V.K. ...</td>\n",
       "      <td>Others</td>\n",
       "      <td>singhi co chatterjee co v k dhingra co a k sab...</td>\n",
       "    </tr>\n",
       "    <tr>\n",
       "      <th>2521</th>\n",
       "      <td>Singhi &amp; Co. Chatterjee &amp;Co. V.K. Dhingra &amp; Co...</td>\n",
       "      <td>Others</td>\n",
       "      <td>singhi co chatterjee co v k dhingra co a k sab...</td>\n",
       "    </tr>\n",
       "    <tr>\n",
       "      <th>2522</th>\n",
       "      <td>r* • • *“•\" 1 1 i • • 1 1 1 STEEL AUTHORITY OF...</td>\n",
       "      <td>Others</td>\n",
       "      <td>r i steel authority of india limited cin l dl ...</td>\n",
       "    </tr>\n",
       "    <tr>\n",
       "      <th>2523</th>\n",
       "      <td>Particulars Quarter ended Year ended March 31,...</td>\n",
       "      <td>Others</td>\n",
       "      <td>particulars quarter ended year ended march aud...</td>\n",
       "    </tr>\n",
       "    <tr>\n",
       "      <th>2524</th>\n",
       "      <td>Particulars Quarter Ended Year Ended March 31,...</td>\n",
       "      <td>Others</td>\n",
       "      <td>particulars quarter ended year ended march mar...</td>\n",
       "    </tr>\n",
       "  </tbody>\n",
       "</table>\n",
       "<p>2504 rows × 3 columns</p>\n",
       "</div>"
      ],
      "text/plain": [
       "                                                   text        category  \\\n",
       "0     (7 in lacs) (7 in lacs) _1_ Standalone Consoli...  Balance Sheets   \n",
       "1     Consolidated Standalone Particulars As at As a...  Balance Sheets   \n",
       "2     Standalone Consolidated Audited Audited Partic...  Balance Sheets   \n",
       "3     GUJARAT NARMADA VALLEY FERTILIZERS & CHEMICALS...  Balance Sheets   \n",
       "4     Standalone Consolidated As at As at As at As a...  Balance Sheets   \n",
       "...                                                 ...             ...   \n",
       "2520  1. Singhi & Co., 2. Chatterjee & Co., 3. V.K. ...          Others   \n",
       "2521  Singhi & Co. Chatterjee &Co. V.K. Dhingra & Co...          Others   \n",
       "2522  r* • • *“•\" 1 1 i • • 1 1 1 STEEL AUTHORITY OF...          Others   \n",
       "2523  Particulars Quarter ended Year ended March 31,...          Others   \n",
       "2524  Particulars Quarter Ended Year Ended March 31,...          Others   \n",
       "\n",
       "                                             clean_text  \n",
       "0     in lacs in lacs standalone consolidated sr no ...  \n",
       "1     consolidated standalone particulars as at as a...  \n",
       "2     standalone consolidated audited audited partic...  \n",
       "3     gujarat narmada valley fertilizers chemicals l...  \n",
       "4     standalone consolidated as at as at as at as a...  \n",
       "...                                                 ...  \n",
       "2520  singhi co chatterjee co v k dhingra co a k sab...  \n",
       "2521  singhi co chatterjee co v k dhingra co a k sab...  \n",
       "2522  r i steel authority of india limited cin l dl ...  \n",
       "2523  particulars quarter ended year ended march aud...  \n",
       "2524  particulars quarter ended year ended march mar...  \n",
       "\n",
       "[2504 rows x 3 columns]"
      ]
     },
     "execution_count": 393,
     "metadata": {},
     "output_type": "execute_result"
    }
   ],
   "source": [
    "# Convert text to lowercase\n",
    "df['clean_text'] = df['clean_text'].apply(lambda x: x.lower())\n",
    "df"
   ]
  },
  {
   "cell_type": "code",
   "execution_count": 394,
   "id": "4e588bed",
   "metadata": {},
   "outputs": [
    {
     "data": {
      "text/plain": [
       "'in lacs in lacs standalone consolidated sr no particulars as at st march as at st march as at st march as at st march a assets non current assets a property plant and equipment b capital work in progress c intangible assets d financial assets i non current investments ii loans iii other financial assets e other non current assets total non current assets a current assets a inventories b financial assets i trade receivables ii cash and cash equivalents iii bank balances other than ii above ivj loans v other financial assets c other current assets total current assets b total assets a b b equity liabilities equity a equity share capital b other equity total equity a liabilities non current liabilities a financial liabilities i long term borrowings ii other non current financial liability bj long term provisions c deferred tax liabilities net total non current liabilities b current liabilities a financial liabilities i short term borrowings ii trade payables iii other current financial liabilities b other current liabilities c short term provisions d current tax liabilities net total current liabilities c total equity and liabilities a b c'"
      ]
     },
     "execution_count": 394,
     "metadata": {},
     "output_type": "execute_result"
    }
   ],
   "source": [
    "df[\"clean_text\"][0]"
   ]
  },
  {
   "cell_type": "markdown",
   "id": "430a6617",
   "metadata": {},
   "source": [
    "### Stemming\n",
    "\n",
    "Words are reduced to their root form using stemming, which helps in standardizing the text data."
   ]
  },
  {
   "cell_type": "code",
   "execution_count": 395,
   "id": "a967bc9e",
   "metadata": {},
   "outputs": [],
   "source": [
    "## Stemming\n",
    "ps = PorterStemmer()"
   ]
  },
  {
   "cell_type": "code",
   "execution_count": 396,
   "id": "73256342",
   "metadata": {},
   "outputs": [],
   "source": [
    "def stem(text):\n",
    "  y = []\n",
    "  for i in text.split():\n",
    "    y.append(ps.stem(i))\n",
    "  return \" \".join(y)"
   ]
  },
  {
   "cell_type": "code",
   "execution_count": 397,
   "id": "2e652c6e",
   "metadata": {},
   "outputs": [],
   "source": [
    "df['clean_text'] = df['clean_text'].apply(stem)"
   ]
  },
  {
   "cell_type": "code",
   "execution_count": 398,
   "id": "20ced5ae",
   "metadata": {},
   "outputs": [
    {
     "data": {
      "text/plain": [
       "'in lac in lac standalon consolid sr no particular as at st march as at st march as at st march as at st march a asset non current asset a properti plant and equip b capit work in progress c intang asset d financi asset i non current invest ii loan iii other financi asset e other non current asset total non current asset a current asset a inventori b financi asset i trade receiv ii cash and cash equival iii bank balanc other than ii abov ivj loan v other financi asset c other current asset total current asset b total asset a b b equiti liabil equiti a equiti share capit b other equiti total equiti a liabil non current liabil a financi liabil i long term borrow ii other non current financi liabil bj long term provis c defer tax liabil net total non current liabil b current liabil a financi liabil i short term borrow ii trade payabl iii other current financi liabil b other current liabil c short term provis d current tax liabil net total current liabil c total equiti and liabil a b c'"
      ]
     },
     "execution_count": 398,
     "metadata": {},
     "output_type": "execute_result"
    }
   ],
   "source": [
    "df.clean_text[0]"
   ]
  },
  {
   "cell_type": "markdown",
   "id": "6ef18dd6",
   "metadata": {},
   "source": [
    "### Category column - distribution"
   ]
  },
  {
   "cell_type": "code",
   "execution_count": 399,
   "id": "427f74b6",
   "metadata": {},
   "outputs": [
    {
     "data": {
      "text/plain": [
       "Others              1207\n",
       "Notes                686\n",
       "Income Statement     305\n",
       "Balance Sheets       270\n",
       "Cash Flow             36\n",
       "Name: category, dtype: int64"
      ]
     },
     "execution_count": 399,
     "metadata": {},
     "output_type": "execute_result"
    }
   ],
   "source": [
    "df[\"category\"].value_counts()"
   ]
  },
  {
   "cell_type": "code",
   "execution_count": 400,
   "id": "15ab0165",
   "metadata": {},
   "outputs": [
    {
     "name": "stdout",
     "output_type": "stream",
     "text": [
      "Others              48.0\n",
      "Notes               27.0\n",
      "Income Statement    12.0\n",
      "Balance Sheets      11.0\n",
      "Cash Flow            1.0\n",
      "Name: category, dtype: float64 2\n"
     ]
    }
   ],
   "source": [
    "#percentage distribution\n",
    "print(round(df[\"category\"].value_counts()/len(df)*100),2)"
   ]
  },
  {
   "cell_type": "code",
   "execution_count": 401,
   "id": "fbace32d",
   "metadata": {},
   "outputs": [
    {
     "data": {
      "image/png": "[encoded data removed]",
      "text/plain": [
       "<Figure size 1000x600 with 1 Axes>"
      ]
     },
     "metadata": {},
     "output_type": "display_data"
    }
   ],
   "source": [
    "#plotting the target variable\n",
    "plt.figure(figsize=(10,6))\n",
    "sns.countplot(x='category', data=df)\n",
    "plt.title('Target Variable Distribution')\n",
    "plt.xlabel('Category')\n",
    "plt.ylabel('Count')\n",
    "plt.savefig(\"imbalanced.png\")\n",
    "plt.show()\n",
    "\n"
   ]
  },
  {
   "cell_type": "markdown",
   "id": "7a941325",
   "metadata": {},
   "source": [
    "### Encoding the target variable\n",
    "\n",
    "The target variable (categories) is encoded into numerical values using LabelEncoder."
   ]
  },
  {
   "cell_type": "code",
   "execution_count": 402,
   "id": "cbf0fdac",
   "metadata": {},
   "outputs": [
    {
     "data": {
      "text/html": [
       "<div>\n",
       "<style scoped>\n",
       "    .dataframe tbody tr th:only-of-type {\n",
       "        vertical-align: middle;\n",
       "    }\n",
       "\n",
       "    .dataframe tbody tr th {\n",
       "        vertical-align: top;\n",
       "    }\n",
       "\n",
       "    .dataframe thead th {\n",
       "        text-align: right;\n",
       "    }\n",
       "</style>\n",
       "<table border=\"1\" class=\"dataframe\">\n",
       "  <thead>\n",
       "    <tr style=\"text-align: right;\">\n",
       "      <th></th>\n",
       "      <th>text</th>\n",
       "      <th>category</th>\n",
       "      <th>clean_text</th>\n",
       "    </tr>\n",
       "  </thead>\n",
       "  <tbody>\n",
       "    <tr>\n",
       "      <th>0</th>\n",
       "      <td>(7 in lacs) (7 in lacs) _1_ Standalone Consoli...</td>\n",
       "      <td>0</td>\n",
       "      <td>in lac in lac standalon consolid sr no particu...</td>\n",
       "    </tr>\n",
       "    <tr>\n",
       "      <th>1</th>\n",
       "      <td>Consolidated Standalone Particulars As at As a...</td>\n",
       "      <td>0</td>\n",
       "      <td>consolid standalon particular as at as at mar ...</td>\n",
       "    </tr>\n",
       "    <tr>\n",
       "      <th>2</th>\n",
       "      <td>Standalone Consolidated Audited Audited Partic...</td>\n",
       "      <td>0</td>\n",
       "      <td>standalon consolid audit audit particular as a...</td>\n",
       "    </tr>\n",
       "    <tr>\n",
       "      <th>3</th>\n",
       "      <td>GUJARAT NARMADA VALLEY FERTILIZERS &amp; CHEMICALS...</td>\n",
       "      <td>0</td>\n",
       "      <td>gujarat narmada valley fertil chemic limit sta...</td>\n",
       "    </tr>\n",
       "    <tr>\n",
       "      <th>4</th>\n",
       "      <td>Standalone Consolidated As at As at As at As a...</td>\n",
       "      <td>0</td>\n",
       "      <td>standalon consolid as at as at as at as at par...</td>\n",
       "    </tr>\n",
       "    <tr>\n",
       "      <th>...</th>\n",
       "      <td>...</td>\n",
       "      <td>...</td>\n",
       "      <td>...</td>\n",
       "    </tr>\n",
       "    <tr>\n",
       "      <th>2520</th>\n",
       "      <td>1. Singhi &amp; Co., 2. Chatterjee &amp; Co., 3. V.K. ...</td>\n",
       "      <td>4</td>\n",
       "      <td>singhi co chatterje co v k dhingra co a k saba...</td>\n",
       "    </tr>\n",
       "    <tr>\n",
       "      <th>2521</th>\n",
       "      <td>Singhi &amp; Co. Chatterjee &amp;Co. V.K. Dhingra &amp; Co...</td>\n",
       "      <td>4</td>\n",
       "      <td>singhi co chatterje co v k dhingra co a k saba...</td>\n",
       "    </tr>\n",
       "    <tr>\n",
       "      <th>2522</th>\n",
       "      <td>r* • • *“•\" 1 1 i • • 1 1 1 STEEL AUTHORITY OF...</td>\n",
       "      <td>4</td>\n",
       "      <td>r i steel author of india limit cin l dl go re...</td>\n",
       "    </tr>\n",
       "    <tr>\n",
       "      <th>2523</th>\n",
       "      <td>Particulars Quarter ended Year ended March 31,...</td>\n",
       "      <td>4</td>\n",
       "      <td>particular quarter end year end march audit re...</td>\n",
       "    </tr>\n",
       "    <tr>\n",
       "      <th>2524</th>\n",
       "      <td>Particulars Quarter Ended Year Ended March 31,...</td>\n",
       "      <td>4</td>\n",
       "      <td>particular quarter end year end march march de...</td>\n",
       "    </tr>\n",
       "  </tbody>\n",
       "</table>\n",
       "<p>2504 rows × 3 columns</p>\n",
       "</div>"
      ],
      "text/plain": [
       "                                                   text  category  \\\n",
       "0     (7 in lacs) (7 in lacs) _1_ Standalone Consoli...         0   \n",
       "1     Consolidated Standalone Particulars As at As a...         0   \n",
       "2     Standalone Consolidated Audited Audited Partic...         0   \n",
       "3     GUJARAT NARMADA VALLEY FERTILIZERS & CHEMICALS...         0   \n",
       "4     Standalone Consolidated As at As at As at As a...         0   \n",
       "...                                                 ...       ...   \n",
       "2520  1. Singhi & Co., 2. Chatterjee & Co., 3. V.K. ...         4   \n",
       "2521  Singhi & Co. Chatterjee &Co. V.K. Dhingra & Co...         4   \n",
       "2522  r* • • *“•\" 1 1 i • • 1 1 1 STEEL AUTHORITY OF...         4   \n",
       "2523  Particulars Quarter ended Year ended March 31,...         4   \n",
       "2524  Particulars Quarter Ended Year Ended March 31,...         4   \n",
       "\n",
       "                                             clean_text  \n",
       "0     in lac in lac standalon consolid sr no particu...  \n",
       "1     consolid standalon particular as at as at mar ...  \n",
       "2     standalon consolid audit audit particular as a...  \n",
       "3     gujarat narmada valley fertil chemic limit sta...  \n",
       "4     standalon consolid as at as at as at as at par...  \n",
       "...                                                 ...  \n",
       "2520  singhi co chatterje co v k dhingra co a k saba...  \n",
       "2521  singhi co chatterje co v k dhingra co a k saba...  \n",
       "2522  r i steel author of india limit cin l dl go re...  \n",
       "2523  particular quarter end year end march audit re...  \n",
       "2524  particular quarter end year end march march de...  \n",
       "\n",
       "[2504 rows x 3 columns]"
      ]
     },
     "execution_count": 402,
     "metadata": {},
     "output_type": "execute_result"
    }
   ],
   "source": [
    "## encoding the target variable\n",
    "encoder = LabelEncoder()\n",
    "df['category'] = encoder.fit_transform(df['category'])\n",
    "df"
   ]
  },
  {
   "cell_type": "markdown",
   "id": "55c70f63",
   "metadata": {},
   "source": [
    "## Model Training and evaluation\n",
    "\n",
    "### Data splitting and vectorization\n",
    "\n",
    "The dataset is split into training and testing sets. The text data is then transformed into numerical vectors using CountVectorizer."
   ]
  },
  {
   "cell_type": "code",
   "execution_count": 403,
   "id": "afaef4d8",
   "metadata": {},
   "outputs": [],
   "source": [
    "x= df['clean_text']\n",
    "y = df['category']\n",
    "x_train, x_test, y_train, y_test = train_test_split(x,y, test_size=0.2, random_state=0)"
   ]
  },
  {
   "cell_type": "code",
   "execution_count": 404,
   "id": "d380647f",
   "metadata": {},
   "outputs": [],
   "source": [
    "\n",
    "cv = CountVectorizer(max_features=5000,stop_words='english')"
   ]
  },
  {
   "cell_type": "code",
   "execution_count": 405,
   "id": "6e2cd28c",
   "metadata": {},
   "outputs": [],
   "source": [
    "x_train_cv = cv.fit_transform(x_train)\n",
    "x_test_cv = cv.transform(x_test)\n"
   ]
  },
  {
   "cell_type": "markdown",
   "id": "d49515d7",
   "metadata": {},
   "source": [
    "###  Balancing the target variable"
   ]
  },
  {
   "cell_type": "code",
   "execution_count": 406,
   "id": "85471f56",
   "metadata": {},
   "outputs": [],
   "source": [
    "smote = SMOTE(random_state=42)\n",
    "x_train_cv_smote, y_train_smote = smote.fit_resample(x_train_cv, y_train)"
   ]
  },
  {
   "cell_type": "code",
   "execution_count": 407,
   "id": "69bae004",
   "metadata": {},
   "outputs": [
    {
     "data": {
      "image/png": "[encoded data removed]",
      "text/plain": [
       "<Figure size 1000x600 with 1 Axes>"
      ]
     },
     "metadata": {},
     "output_type": "display_data"
    }
   ],
   "source": [
    "# plot the distribution of the target variable after SMOTE\n",
    "plt.figure(figsize=(10,6))\n",
    "sns.countplot(x=y_train_smote)\n",
    "plt.title('Target Variable Distribution after SMOTE')\n",
    "plt.xlabel('Category')\n",
    "plt.ylabel('Count')\n",
    "plt.savefig(\"balanced.png\")\n",
    "plt.show()\n",
    "\n"
   ]
  },
  {
   "cell_type": "markdown",
   "id": "f5b5c88e",
   "metadata": {},
   "source": [
    "### Training and Evaluation Function\n",
    "\n",
    "A function is created to train and evaluate the models, calculating accuracy, precision, recall, and F1 score."
   ]
  },
  {
   "cell_type": "code",
   "execution_count": 375,
   "id": "98c7c53f",
   "metadata": {},
   "outputs": [],
   "source": [
    "def train_and_evaluate_model(model):\n",
    "    model.fit(x_train_cv_smote, y_train_smote)\n",
    "    y_pred = model.predict(x_test_cv)\n",
    "    accuracy = round(accuracy_score(y_test, y_pred), 2)\n",
    "    precision = round(precision_score(y_test, y_pred, average='weighted'), 2)\n",
    "    recall = round(recall_score(y_test, y_pred, average='weighted'), 2)\n",
    "    f1 = round(f1_score(y_test, y_pred, average='weighted'), 2)\n",
    "    return accuracy, precision, recall, f1\n"
   ]
  },
  {
   "cell_type": "markdown",
   "id": "ca76df60",
   "metadata": {},
   "source": [
    "### Models Used\n",
    "\n",
    "- __Support Vector Machine (SVM)-__\n",
    "SVM is effective in high-dimensional spaces and is often used for text classification.\n",
    "\n",
    "- __Multinomial Naive Bayes-__\n",
    "Naive Bayes classifiers are particularly suited for text classification tasks due to their simplicity and efficiency.\n",
    "\n",
    "- __Random Forest-__\n",
    "An ensemble method that builds multiple decision trees and merges them to get a more accurate and stable prediction.\n",
    "\n",
    "- __Logistic Regression-__\n",
    "A statistical model that in its basic form uses a logistic function to model a binary dependent variable.\n",
    "\n",
    "- __XGBoost-__\n",
    "An optimized gradient-boosting algorithm that is highly efficient and accurate.\n",
    "\n",
    "- __Multilayer Perceptron (Neural Network)-__\n",
    "A type of neural network that consists of multiple layers of nodes, each fully connected to the next layer. It is capable of capturing complex patterns in data.\n"
   ]
  },
  {
   "cell_type": "code",
   "execution_count": 376,
   "id": "f43d4c82",
   "metadata": {},
   "outputs": [],
   "source": [
    "# #Initialize models\n",
    "models = {\n",
    "    \"Support Vector Machine (SVM)\": SVC(kernel='linear', random_state=42),\n",
    "    \"Multinomial Naive Bayes\": MultinomialNB(),\n",
    "    \"Random Forest\": RandomForestClassifier(n_estimators=100, random_state=42),\n",
    "    \"Logistic Regression\": LogisticRegression(max_iter=1000, random_state=42),\n",
    "    \"XGBoost\": XGBClassifier(verbosity=0, random_state=42),\n",
    "    \"Multilayer Perceptron (Neural Network)\": MLPClassifier(hidden_layer_sizes=(100,), activation='relu', solver='adam', max_iter=1000, random_state=42),\n",
    "    \"K-Nearest Neighbors (KNN)\": KNeighborsClassifier(n_neighbors=5, algorithm='auto'),\n",
    "    \"Decision Tree\": DecisionTreeClassifier(random_state=42)\n",
    "}"
   ]
  },
  {
   "cell_type": "markdown",
   "id": "976205de",
   "metadata": {},
   "source": [
    "### Model Comparison\n",
    "\n",
    "The models were trained and evaluated, and their performance metrics were collected."
   ]
  },
  {
   "cell_type": "code",
   "execution_count": 377,
   "id": "c2a84195",
   "metadata": {},
   "outputs": [
    {
     "name": "stdout",
     "output_type": "stream",
     "text": [
      "Support Vector Machine (SVM) Accuracy: 0.89\n",
      "Support Vector Machine (SVM) Classification Report:\n",
      "                   precision    recall  f1-score   support\n",
      "\n",
      "  Balance Sheets       0.93      1.00      0.96        51\n",
      "       Cash Flow       0.55      1.00      0.71         6\n",
      "Income Statement       0.85      0.97      0.91        60\n",
      "           Notes       0.81      0.89      0.85       133\n",
      "          Others       0.95      0.84      0.89       251\n",
      "\n",
      "        accuracy                           0.89       501\n",
      "       macro avg       0.82      0.94      0.86       501\n",
      "    weighted avg       0.90      0.89      0.89       501\n",
      "\n",
      "confusion matrix:\n",
      " [[ 51   0   0   0   0]\n",
      " [  0   6   0   0   0]\n",
      " [  0   0  58   0   2]\n",
      " [  0   5   1 119   8]\n",
      " [  4   0   9  28 210]]\n",
      "============================================================\n",
      "Multinomial Naive Bayes Accuracy: 0.82\n",
      "Multinomial Naive Bayes Classification Report:\n",
      "                   precision    recall  f1-score   support\n",
      "\n",
      "  Balance Sheets       0.82      1.00      0.90        51\n",
      "       Cash Flow       0.86      1.00      0.92         6\n",
      "Income Statement       0.56      0.98      0.72        60\n",
      "           Notes       0.82      0.94      0.88       133\n",
      "          Others       0.98      0.68      0.80       251\n",
      "\n",
      "        accuracy                           0.82       501\n",
      "       macro avg       0.81      0.92      0.84       501\n",
      "    weighted avg       0.87      0.82      0.82       501\n",
      "\n",
      "confusion matrix:\n",
      " [[ 51   0   0   0   0]\n",
      " [  0   6   0   0   0]\n",
      " [  0   0  59   0   1]\n",
      " [  1   0   4 125   3]\n",
      " [ 10   1  42  27 171]]\n",
      "============================================================\n",
      "Random Forest Accuracy: 0.95\n",
      "Random Forest Classification Report:\n",
      "                   precision    recall  f1-score   support\n",
      "\n",
      "  Balance Sheets       0.98      0.98      0.98        51\n",
      "       Cash Flow       1.00      1.00      1.00         6\n",
      "Income Statement       0.95      0.98      0.97        60\n",
      "           Notes       0.87      0.99      0.93       133\n",
      "          Others       0.99      0.91      0.95       251\n",
      "\n",
      "        accuracy                           0.95       501\n",
      "       macro avg       0.96      0.97      0.96       501\n",
      "    weighted avg       0.95      0.95      0.95       501\n",
      "\n",
      "confusion matrix:\n",
      " [[ 50   0   0   1   0]\n",
      " [  0   6   0   0   0]\n",
      " [  0   0  59   0   1]\n",
      " [  0   0   0 132   1]\n",
      " [  1   0   3  19 228]]\n",
      "============================================================\n",
      "Logistic Regression Accuracy: 0.94\n",
      "Logistic Regression Classification Report:\n",
      "                   precision    recall  f1-score   support\n",
      "\n",
      "  Balance Sheets       1.00      0.98      0.99        51\n",
      "       Cash Flow       0.60      1.00      0.75         6\n",
      "Income Statement       0.94      0.97      0.95        60\n",
      "           Notes       0.90      0.92      0.91       133\n",
      "          Others       0.97      0.93      0.95       251\n",
      "\n",
      "        accuracy                           0.94       501\n",
      "       macro avg       0.88      0.96      0.91       501\n",
      "    weighted avg       0.94      0.94      0.94       501\n",
      "\n",
      "confusion matrix:\n",
      " [[ 50   0   0   1   0]\n",
      " [  0   6   0   0   0]\n",
      " [  0   0  58   0   2]\n",
      " [  0   4   0 123   6]\n",
      " [  0   0   4  13 234]]\n",
      "============================================================\n",
      "XGBoost Accuracy: 0.95\n",
      "XGBoost Classification Report:\n",
      "                   precision    recall  f1-score   support\n",
      "\n",
      "  Balance Sheets       0.98      0.98      0.98        51\n",
      "       Cash Flow       1.00      1.00      1.00         6\n",
      "Income Statement       0.98      0.97      0.97        60\n",
      "           Notes       0.91      0.93      0.92       133\n",
      "          Others       0.96      0.95      0.95       251\n",
      "\n",
      "        accuracy                           0.95       501\n",
      "       macro avg       0.97      0.97      0.97       501\n",
      "    weighted avg       0.95      0.95      0.95       501\n",
      "\n",
      "confusion matrix:\n",
      " [[ 50   0   0   1   0]\n",
      " [  0   6   0   0   0]\n",
      " [  0   0  58   0   2]\n",
      " [  0   0   0 124   9]\n",
      " [  1   0   1  11 238]]\n",
      "============================================================\n",
      "Multilayer Perceptron (Neural Network) Accuracy: 0.91\n",
      "Multilayer Perceptron (Neural Network) Classification Report:\n",
      "                   precision    recall  f1-score   support\n",
      "\n",
      "  Balance Sheets       0.98      1.00      0.99        51\n",
      "       Cash Flow       0.60      1.00      0.75         6\n",
      "Income Statement       0.87      0.92      0.89        60\n",
      "           Notes       0.88      0.90      0.89       133\n",
      "          Others       0.94      0.90      0.92       251\n",
      "\n",
      "        accuracy                           0.91       501\n",
      "       macro avg       0.86      0.94      0.89       501\n",
      "    weighted avg       0.92      0.91      0.91       501\n",
      "\n",
      "confusion matrix:\n",
      " [[ 51   0   0   0   0]\n",
      " [  0   6   0   0   0]\n",
      " [  0   0  55   0   5]\n",
      " [  0   3   1 120   9]\n",
      " [  1   1   7  16 226]]\n",
      "============================================================\n",
      "K-Nearest Neighbors (KNN) Accuracy: 0.86\n",
      "K-Nearest Neighbors (KNN) Classification Report:\n",
      "                   precision    recall  f1-score   support\n",
      "\n",
      "  Balance Sheets       0.91      1.00      0.95        51\n",
      "       Cash Flow       0.55      1.00      0.71         6\n",
      "Income Statement       0.91      0.97      0.94        60\n",
      "           Notes       0.72      0.92      0.81       133\n",
      "          Others       0.97      0.78      0.86       251\n",
      "\n",
      "        accuracy                           0.86       501\n",
      "       macro avg       0.81      0.93      0.85       501\n",
      "    weighted avg       0.89      0.86      0.87       501\n",
      "\n",
      "confusion matrix:\n",
      " [[ 51   0   0   0   0]\n",
      " [  0   6   0   0   0]\n",
      " [  1   0  58   0   1]\n",
      " [  1   4   1 123   4]\n",
      " [  3   1   5  47 195]]\n",
      "============================================================\n",
      "Decision Tree Accuracy: 0.88\n",
      "Decision Tree Classification Report:\n",
      "                   precision    recall  f1-score   support\n",
      "\n",
      "  Balance Sheets       0.93      0.98      0.95        51\n",
      "       Cash Flow       0.86      1.00      0.92         6\n",
      "Income Statement       0.92      0.98      0.95        60\n",
      "           Notes       0.79      0.83      0.81       133\n",
      "          Others       0.92      0.86      0.89       251\n",
      "\n",
      "        accuracy                           0.88       501\n",
      "       macro avg       0.88      0.93      0.90       501\n",
      "    weighted avg       0.88      0.88      0.88       501\n",
      "\n",
      "confusion matrix:\n",
      " [[ 50   0   0   0   1]\n",
      " [  0   6   0   0   0]\n",
      " [  0   0  59   0   1]\n",
      " [  3   1   1 110  18]\n",
      " [  1   0   4  30 216]]\n",
      "============================================================\n"
     ]
    }
   ],
   "source": [
    "# List to store metrics\n",
    "metrics_list = []\n",
    "\n",
    "# Train and evaluate models\n",
    "for name, model in models.items():\n",
    "    accuracy, precision, recall, f1 = train_and_evaluate_model(model)\n",
    "    print(f\"{name} Accuracy:\", accuracy)\n",
    "    print(f\"{name} Classification Report:\\n\", classification_report(y_test, model.predict(x_test_cv), target_names=encoder.classes_))\n",
    "    print(\"confusion matrix:\\n\", confusion_matrix(y_test, model.predict(x_test_cv)))\n",
    "    print(\"=\" * 60)\n",
    "    metrics_list.append({\n",
    "        'Model': name,\n",
    "        'Accuracy': accuracy,\n",
    "        'Precision': precision,\n",
    "        'Recall': recall,\n",
    "        'F1 Score': f1\n",
    "    })\n",
    "    \n",
    "# Convert metrics list to DataFrame\n",
    "metrics_df = pd.DataFrame(metrics_list)\n",
    "metrics_df.sort_values(by='Accuracy',ascending=False,inplace=True)"
   ]
  },
  {
   "cell_type": "code",
   "execution_count": 378,
   "id": "7407112f",
   "metadata": {},
   "outputs": [
    {
     "data": {
      "text/html": [
       "<div>\n",
       "<style scoped>\n",
       "    .dataframe tbody tr th:only-of-type {\n",
       "        vertical-align: middle;\n",
       "    }\n",
       "\n",
       "    .dataframe tbody tr th {\n",
       "        vertical-align: top;\n",
       "    }\n",
       "\n",
       "    .dataframe thead th {\n",
       "        text-align: right;\n",
       "    }\n",
       "</style>\n",
       "<table border=\"1\" class=\"dataframe\">\n",
       "  <thead>\n",
       "    <tr style=\"text-align: right;\">\n",
       "      <th></th>\n",
       "      <th>Model</th>\n",
       "      <th>Accuracy</th>\n",
       "      <th>Precision</th>\n",
       "      <th>Recall</th>\n",
       "      <th>F1 Score</th>\n",
       "    </tr>\n",
       "  </thead>\n",
       "  <tbody>\n",
       "    <tr>\n",
       "      <th>0</th>\n",
       "      <td>Random Forest</td>\n",
       "      <td>0.95</td>\n",
       "      <td>0.95</td>\n",
       "      <td>0.95</td>\n",
       "      <td>0.95</td>\n",
       "    </tr>\n",
       "    <tr>\n",
       "      <th>1</th>\n",
       "      <td>XGBoost</td>\n",
       "      <td>0.95</td>\n",
       "      <td>0.95</td>\n",
       "      <td>0.95</td>\n",
       "      <td>0.95</td>\n",
       "    </tr>\n",
       "    <tr>\n",
       "      <th>2</th>\n",
       "      <td>Logistic Regression</td>\n",
       "      <td>0.94</td>\n",
       "      <td>0.94</td>\n",
       "      <td>0.94</td>\n",
       "      <td>0.94</td>\n",
       "    </tr>\n",
       "    <tr>\n",
       "      <th>3</th>\n",
       "      <td>Multilayer Perceptron (Neural Network)</td>\n",
       "      <td>0.91</td>\n",
       "      <td>0.92</td>\n",
       "      <td>0.91</td>\n",
       "      <td>0.91</td>\n",
       "    </tr>\n",
       "    <tr>\n",
       "      <th>4</th>\n",
       "      <td>Support Vector Machine (SVM)</td>\n",
       "      <td>0.89</td>\n",
       "      <td>0.90</td>\n",
       "      <td>0.89</td>\n",
       "      <td>0.89</td>\n",
       "    </tr>\n",
       "    <tr>\n",
       "      <th>5</th>\n",
       "      <td>Decision Tree</td>\n",
       "      <td>0.88</td>\n",
       "      <td>0.88</td>\n",
       "      <td>0.88</td>\n",
       "      <td>0.88</td>\n",
       "    </tr>\n",
       "    <tr>\n",
       "      <th>6</th>\n",
       "      <td>K-Nearest Neighbors (KNN)</td>\n",
       "      <td>0.86</td>\n",
       "      <td>0.89</td>\n",
       "      <td>0.86</td>\n",
       "      <td>0.87</td>\n",
       "    </tr>\n",
       "    <tr>\n",
       "      <th>7</th>\n",
       "      <td>Multinomial Naive Bayes</td>\n",
       "      <td>0.82</td>\n",
       "      <td>0.87</td>\n",
       "      <td>0.82</td>\n",
       "      <td>0.82</td>\n",
       "    </tr>\n",
       "  </tbody>\n",
       "</table>\n",
       "</div>"
      ],
      "text/plain": [
       "                                    Model  Accuracy  Precision  Recall  \\\n",
       "0                           Random Forest      0.95       0.95    0.95   \n",
       "1                                 XGBoost      0.95       0.95    0.95   \n",
       "2                     Logistic Regression      0.94       0.94    0.94   \n",
       "3  Multilayer Perceptron (Neural Network)      0.91       0.92    0.91   \n",
       "4            Support Vector Machine (SVM)      0.89       0.90    0.89   \n",
       "5                           Decision Tree      0.88       0.88    0.88   \n",
       "6               K-Nearest Neighbors (KNN)      0.86       0.89    0.86   \n",
       "7                 Multinomial Naive Bayes      0.82       0.87    0.82   \n",
       "\n",
       "   F1 Score  \n",
       "0      0.95  \n",
       "1      0.95  \n",
       "2      0.94  \n",
       "3      0.91  \n",
       "4      0.89  \n",
       "5      0.88  \n",
       "6      0.87  \n",
       "7      0.82  "
      ]
     },
     "execution_count": 378,
     "metadata": {},
     "output_type": "execute_result"
    }
   ],
   "source": [
    "metrics_df.reset_index(drop=True,inplace=True)\n",
    "metrics_df"
   ]
  },
  {
   "cell_type": "markdown",
   "id": "ba243077",
   "metadata": {},
   "source": [
    "### Plotting the Results"
   ]
  },
  {
   "cell_type": "code",
   "execution_count": 408,
   "id": "aa1fd7f2",
   "metadata": {},
   "outputs": [
    {
     "data": {
      "image/png": "[encoded data removed]",
      "text/plain": [
       "<Figure size 1000x600 with 1 Axes>"
      ]
     },
     "metadata": {},
     "output_type": "display_data"
    }
   ],
   "source": [
    "# Plot the accuracies\n",
    "plt.figure(figsize=(10, 6))\n",
    "sns.barplot(x='Accuracy', y='Model', data=metrics_df)\n",
    "plt.title('Model Accuracy Comparison')\n",
    "plt.xlabel('Accuracy')\n",
    "plt.ylabel('Model')\n",
    "plt.savefig(\"model_comparison.png\")\n",
    "plt.show()"
   ]
  },
  {
   "cell_type": "markdown",
   "id": "cbb9a96d",
   "metadata": {},
   "source": [
    "## Conclusion\n",
    "\n",
    "Based on the evaluation metrics, the __Random Forest__  and __XGBoost__ models achieved the highest accuracy at 95%, followed closely by __Logistic Regression__  with an accuracy of 94%.\n"
   ]
  },
  {
   "cell_type": "markdown",
   "id": "4a6899f9",
   "metadata": {},
   "source": [
    "## Recommendations\n",
    "\n",
    "Given the high accuracy and robust performance across multiple metrics, the __Random Forest model__ or __XGBoost model__ is recommended for deployment in the classification of financial statement tables. The model's ensemble nature makes it particularly suitable for handling diverse and complex datasets."
   ]
  },
  {
   "cell_type": "code",
   "execution_count": 380,
   "id": "20c5e92f",
   "metadata": {},
   "outputs": [
    {
     "name": "stdout",
     "output_type": "stream",
     "text": [
      "Stored 'metrics_df' (DataFrame)\n"
     ]
    }
   ],
   "source": [
    "%store metrics_df"
   ]
  },
  {
   "cell_type": "raw",
   "id": "aedc3c3b",
   "metadata": {},
   "source": []
  },
  {
   "cell_type": "code",
   "execution_count": null,
   "id": "b199929f",
   "metadata": {},
   "outputs": [],
   "source": []
  },
  {
   "cell_type": "code",
   "execution_count": null,
   "id": "ab045378",
   "metadata": {},
   "outputs": [],
   "source": []
  },
  {
   "cell_type": "code",
   "execution_count": null,
   "id": "1e726738",
   "metadata": {},
   "outputs": [],
   "source": []
  }
 ],
 "metadata": {
  "kernelspec": {
   "display_name": "Python 3 (ipykernel)",
   "language": "python",
   "name": "python3"
  },
  "language_info": {
   "codemirror_mode": {
    "name": "ipython",
    "version": 3
   },
   "file_extension": ".py",
   "mimetype": "text/x-python",
   "name": "python",
   "nbconvert_exporter": "python",
   "pygments_lexer": "ipython3",
   "version": "3.10.9"
  }
 },
 "nbformat": 4,
 "nbformat_minor": 5
}
